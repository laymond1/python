{
 "cells": [
  {
   "cell_type": "markdown",
   "metadata": {},
   "source": [
    "# 파이썬 웹 크롤링\n",
    "# 출처 : https://blog.naver.com/htk1019/"
   ]
  },
  {
   "cell_type": "markdown",
   "metadata": {},
   "source": [
    "# 미국 주식 데이터\n",
    " http://finviz.com/"
   ]
  },
  {
   "cell_type": "code",
   "execution_count": 2,
   "metadata": {
    "collapsed": true
   },
   "outputs": [],
   "source": [
    "from urllib.request import urlopen, Request\n",
    "from bs4 import BeautifulSoup as bs\n",
    "url = r'http://finviz.com/quote.ashx?t={}'.format(\"NVDA\".lower())\n",
    "req = Request(url)\n",
    "html = urlopen(req).read()\n",
    "soup = bs(html, 'lxml')"
   ]
  },
  {
   "cell_type": "code",
   "execution_count": 3,
   "metadata": {},
   "outputs": [
    {
     "name": "stdout",
     "output_type": "stream",
     "text": [
      "50.19\n"
     ]
    }
   ],
   "source": [
    "d = soup.find(text=\"P/E\")\n",
    "d_ = d.find_next(class_='snapshot-td2').text\n",
    "print(d_)\n"
   ]
  },
  {
   "cell_type": "code",
   "execution_count": 4,
   "metadata": {},
   "outputs": [
    {
     "name": "stdout",
     "output_type": "stream",
     "text": [
      "14.97\n"
     ]
    }
   ],
   "source": [
    "from urllib.request import urlopen, Request\n",
    "from bs4 import BeautifulSoup as bs\n",
    "\n",
    "def getFinancialRatioUS(symbol, item):\n",
    "    try:\n",
    "        url = r'http://finviz.com/quote.ashx?t={}'.format(symbol.lower())\n",
    "        req = Request(url)\n",
    "        html = urlopen(req).read()\n",
    "        soup = bs(html, 'lxml')\n",
    "        pb = soup.find(text=item)\n",
    "        pb_ = pb.find_next(class_='snapshot-td2').text\n",
    "        return pb_\n",
    "    except Exception as e:\n",
    "        print(e)\n",
    "\n",
    "psr = getFinancialRatioUS(\"NVDA\",\"P/S\")\n",
    "print(psr)"
   ]
  },
  {
   "cell_type": "code",
   "execution_count": null,
   "metadata": {
    "collapsed": true
   },
   "outputs": [],
   "source": []
  }
 ],
 "metadata": {
  "kernelspec": {
   "display_name": "Python 3",
   "language": "python",
   "name": "python3"
  },
  "language_info": {
   "codemirror_mode": {
    "name": "ipython",
    "version": 3
   },
   "file_extension": ".py",
   "mimetype": "text/x-python",
   "name": "python",
   "nbconvert_exporter": "python",
   "pygments_lexer": "ipython3",
   "version": "3.6.1"
  }
 },
 "nbformat": 4,
 "nbformat_minor": 2
}
